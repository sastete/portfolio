{
 "cells": [
  {
   "cell_type": "raw",
   "id": "76279b2d-a66f-4061-a4e3-7093ea64e4d6",
   "metadata": {},
   "source": [
    "---\n",
    "title: The mini projects of the course Introduction to Machine Learning in Udacity\n",
    "description: A notebook to show the mini-projects in each lesson :)\n",
    "---"
   ]
  },
  {
   "cell_type": "markdown",
   "id": "dd139ef0-5da8-42fd-97ee-b96404ed3844",
   "metadata": {},
   "source": [
    "# This notebook"
   ]
  },
  {
   "cell_type": "markdown",
   "id": "0cfc68b1-04e8-4b92-85cd-1d529cbdaa04",
   "metadata": {},
   "source": [
    "I will show the projects presented in the course. I will present the projects in the notebook using the some of the code provided in the lessons and some code by me. I have restructured the code to adapt it to the use in a notebook. You can find me code here.\n",
    "\n",
    "Each section will correspond to a lesson in the course. \n",
    "\n",
    "Let's start!"
   ]
  },
  {
   "cell_type": "markdown",
   "id": "8ba12023-fda5-49e3-8ac2-d39905c80c68",
   "metadata": {},
   "source": [
    "# Lesson 1: Naive Bayes"
   ]
  },
  {
   "cell_type": "markdown",
   "id": "c4741010-f672-49f4-b032-077d85f75b63",
   "metadata": {},
   "source": [
    "TO DO : Description of the algorithm/objective of the lesson\n",
    "\n",
    "- very common algorithm to find a decision boundary\n",
    "- identify from a text source where one label or another is more likely to be the origin of the text. The algorithm uses the frequency of the words for each label to update the probabilities.\n",
    "- it is called naive because it ignores the words order\n",
    "- Advantages:\n",
    "    - easy to implement.\n",
    "    - it works great with big features spaces (20000 or 30000 english words for example).\n",
    "- Disadvantages:\n",
    "    - it can break: e.g. chicago bulls google."
   ]
  },
  {
   "cell_type": "markdown",
   "id": "6a251cbb-e647-4464-b24b-af690d1b82cf",
   "metadata": {},
   "source": [
    "## Example: Cancer test\n",
    "- Prob(having cancer) = 0.01\n",
    "- Test: \n",
    "    - 90% positive if you have cancer (sensitivity)\n",
    "    - 90% negative if you do not have cancer (specificity)\n",
    "    \n",
    "- Question: Test is positive, what is the probability that the patient actually has cancer?\n",
    "- Answer: We know the test is positive, that means the patient is either one of the 90% detected with a positive test and having cancer or one of the 10% detected with a positive test and not having cancer. For the first case, the patient would be one of the 90% of 1% of the total population. For the second case the patient would be one of the 10% of the 99% of the total population. That means the total population of people with a positive test is $0.9*0.01 + 0.1*0.99 = 0.108$. And out of this portion of the popululation we want to take into account only the people actually having cancer, which is $0.9*0.01$. That means that the probability of having cancer when a test is positive $0.9*0.01 / 0.108 = 0.08333$."
   ]
  },
  {
   "cell_type": "markdown",
   "id": "fd7a33b1-28cf-4dce-a2ae-28110fb62c4f",
   "metadata": {},
   "source": [
    "## Bayes rule:\n",
    "The basic idea behind the bayes rule is that we start with a prior probability and update it using evidence.\n",
    "$$\\text{Prior probability} \\: \\& \\: \\text{Evidence} \\rightarrow \\text{Posterior  probability}$$\n",
    "\n",
    "In the previous example:\n",
    "- Prior probability : $\\mathbb{P}(\\text{Cancer}) = 0.01$\n",
    "- Sensitivity: $\\mathbb{P}(\\text{Positive} \\: | \\: \\text{Cancer}) = 0.9$\n",
    "- Joint probability: \n",
    "    - $\\mathbb{P}(\\text{Cancer} \\: \\& \\: \\text{Positive}) = \\mathbb{P}(\\text{Cancer})*\\mathbb{P}(\\text{Positive} \\: | \\: \\text{Cancer}) = 0.009$\n",
    "    - $\\mathbb{P}(\\sim \\text{Cancer} \\: \\& \\: \\text{Positive}) = \\mathbb{P}(\\sim \\text{Cancer})*\\mathbb{P}(\\text{Positive}\\: | \\: \\sim \\text{Cancer}) = 0.099$\n",
    "- Normalizer: $\\mathbb{P}(\\sim \\text{Cancer} \\: \\& \\: \\text{Positive}) + \\mathbb{P}(\\text{Cancer} \\: \\& \\: \\text{Positive}) = 0.108$\n",
    "- Posterior: \n",
    "    - $\\mathbb{P}(\\text{Cancer} \\:|\\: \\text{Positive}) = \\frac{\\mathbb{P}(\\text{Cancer})*\\mathbb{P}(\\text{Positive} \\: | \\: \\text{Cancer})}{\\mathbb{P}(\\text{Positive})}$\n",
    "    - $\\mathbb{P}(\\sim \\text{Cancer} \\:|\\: \\text{Positive}) = \\frac{\\mathbb{P}(\\sim \\text{Cancer})*\\mathbb{P}(\\text{Positive} \\: | \\: \\sim \\text{Cancer})}{\\mathbb{P}(\\text{Positive})}$"
   ]
  },
  {
   "cell_type": "markdown",
   "id": "0e539ac6-667b-4444-afb6-a5676282bb0e",
   "metadata": {},
   "source": [
    "## Text Learning\n",
    "We will use an example of emails from two people: Chris and Sara. The data comes from the Enron emails database.  "
   ]
  },
  {
   "cell_type": "code",
   "execution_count": 20,
   "id": "5b1f3adc-e036-44b3-b572-eef6036d16fd",
   "metadata": {},
   "outputs": [],
   "source": [
    "path_tools = 'tools/'\n",
    "\n",
    "import sys\n",
    "from time import time\n",
    "sys.path.append(path_tools)\n",
    "from chris_sara_email_preprocess import preprocess"
   ]
  },
  {
   "cell_type": "markdown",
   "id": "3541bf6d-c74a-43ee-a53e-c4e9cf2f3c00",
   "metadata": {},
   "source": [
    "We will use the preprocess method to load the features and labels for train and test. This method uses 2 files that have already been curated. We will dive in the details of the preprocess in the next lessons. For now we only use the data."
   ]
  },
  {
   "cell_type": "code",
   "execution_count": 21,
   "id": "569ebf20-dff9-469c-ab8d-5af576d8d097",
   "metadata": {},
   "outputs": [
    {
     "name": "stdout",
     "output_type": "stream",
     "text": [
      "No. of Chris training emails :  7936\n",
      "No. of Sara training emails :  7884\n"
     ]
    }
   ],
   "source": [
    "features_train, features_test, labels_train, labels_test = preprocess()"
   ]
  },
  {
   "cell_type": "code",
   "execution_count": 22,
   "id": "3dac9c78-a90c-4c05-ad79-51e27dc89159",
   "metadata": {},
   "outputs": [],
   "source": [
    "#import naive bayes from sklearn\n",
    "from sklearn.naive_bayes import GaussianNB"
   ]
  },
  {
   "cell_type": "code",
   "execution_count": 23,
   "id": "d9bac828-20ff-4df4-849d-77714b3e34f7",
   "metadata": {},
   "outputs": [],
   "source": [
    "#initialize and fit\n",
    "naive_bayes = GaussianNB()\n",
    "naive_bayes = naive_bayes.fit(features_train, labels_train)"
   ]
  },
  {
   "cell_type": "markdown",
   "id": "35cd4e0f-cfc2-44e4-93f0-8dc76b0c088e",
   "metadata": {},
   "source": [
    "Is the model any good? We will use the **accuracy** metric to evaluate the models. The accuracy represents the fraction of correct classifications out of all the classifications for the test set."
   ]
  },
  {
   "cell_type": "code",
   "execution_count": 24,
   "id": "702d41b7-6733-4c44-8066-a41412659007",
   "metadata": {},
   "outputs": [],
   "source": [
    "from sklearn.metrics import accuracy_score"
   ]
  },
  {
   "cell_type": "code",
   "execution_count": 25,
   "id": "5bb03c10-66fd-4322-8a48-fabd7e181f21",
   "metadata": {},
   "outputs": [
    {
     "data": {
      "text/plain": [
       "0.9732650739476678"
      ]
     },
     "execution_count": 25,
     "metadata": {},
     "output_type": "execute_result"
    }
   ],
   "source": [
    "#predict and evaluate accuracy\n",
    "predictions = naive_bayes.predict(features_test)\n",
    "accuracy_score(labels_test,predictions)"
   ]
  },
  {
   "cell_type": "markdown",
   "id": "3dabd50c-b592-4d59-8eba-1022b98195cd",
   "metadata": {},
   "source": [
    "Let's add also the time of training and testing for the model. I wrote a method to keep track of the models we will try in the next few lessons."
   ]
  },
  {
   "cell_type": "code",
   "execution_count": 26,
   "id": "f034915f-3992-4f7b-8083-d6fbedc3647e",
   "metadata": {},
   "outputs": [],
   "source": [
    "from classifiers_summary import Classifiers"
   ]
  },
  {
   "cell_type": "code",
   "execution_count": 27,
   "id": "ae6ac036-3a49-4ed8-8689-eec2b14880bc",
   "metadata": {},
   "outputs": [],
   "source": [
    "summary = Classifiers('ML intro Udacity')"
   ]
  },
  {
   "cell_type": "code",
   "execution_count": 28,
   "id": "e6e1a56b-93a8-4ab8-8fcf-019fc98c6e3b",
   "metadata": {},
   "outputs": [
    {
     "name": "stdout",
     "output_type": "stream",
     "text": [
      "****************************************************************************************************\n",
      "Added Naive Bayes with params {'priors': None, 'var_smoothing': 1e-09}\n",
      "Nb of training examples: 15820\n",
      "Training time: 0.394 s | Predict time: 0.034 s\n",
      "Accuracy: 0.9732650739476678\n",
      "****************************************************************************************************\n"
     ]
    },
    {
     "data": {
      "text/html": [
       "<style>#sk-container-id-5 {color: black;background-color: white;}#sk-container-id-5 pre{padding: 0;}#sk-container-id-5 div.sk-toggleable {background-color: white;}#sk-container-id-5 label.sk-toggleable__label {cursor: pointer;display: block;width: 100%;margin-bottom: 0;padding: 0.3em;box-sizing: border-box;text-align: center;}#sk-container-id-5 label.sk-toggleable__label-arrow:before {content: \"▸\";float: left;margin-right: 0.25em;color: #696969;}#sk-container-id-5 label.sk-toggleable__label-arrow:hover:before {color: black;}#sk-container-id-5 div.sk-estimator:hover label.sk-toggleable__label-arrow:before {color: black;}#sk-container-id-5 div.sk-toggleable__content {max-height: 0;max-width: 0;overflow: hidden;text-align: left;background-color: #f0f8ff;}#sk-container-id-5 div.sk-toggleable__content pre {margin: 0.2em;color: black;border-radius: 0.25em;background-color: #f0f8ff;}#sk-container-id-5 input.sk-toggleable__control:checked~div.sk-toggleable__content {max-height: 200px;max-width: 100%;overflow: auto;}#sk-container-id-5 input.sk-toggleable__control:checked~label.sk-toggleable__label-arrow:before {content: \"▾\";}#sk-container-id-5 div.sk-estimator input.sk-toggleable__control:checked~label.sk-toggleable__label {background-color: #d4ebff;}#sk-container-id-5 div.sk-label input.sk-toggleable__control:checked~label.sk-toggleable__label {background-color: #d4ebff;}#sk-container-id-5 input.sk-hidden--visually {border: 0;clip: rect(1px 1px 1px 1px);clip: rect(1px, 1px, 1px, 1px);height: 1px;margin: -1px;overflow: hidden;padding: 0;position: absolute;width: 1px;}#sk-container-id-5 div.sk-estimator {font-family: monospace;background-color: #f0f8ff;border: 1px dotted black;border-radius: 0.25em;box-sizing: border-box;margin-bottom: 0.5em;}#sk-container-id-5 div.sk-estimator:hover {background-color: #d4ebff;}#sk-container-id-5 div.sk-parallel-item::after {content: \"\";width: 100%;border-bottom: 1px solid gray;flex-grow: 1;}#sk-container-id-5 div.sk-label:hover label.sk-toggleable__label {background-color: #d4ebff;}#sk-container-id-5 div.sk-serial::before {content: \"\";position: absolute;border-left: 1px solid gray;box-sizing: border-box;top: 0;bottom: 0;left: 50%;z-index: 0;}#sk-container-id-5 div.sk-serial {display: flex;flex-direction: column;align-items: center;background-color: white;padding-right: 0.2em;padding-left: 0.2em;position: relative;}#sk-container-id-5 div.sk-item {position: relative;z-index: 1;}#sk-container-id-5 div.sk-parallel {display: flex;align-items: stretch;justify-content: center;background-color: white;position: relative;}#sk-container-id-5 div.sk-item::before, #sk-container-id-5 div.sk-parallel-item::before {content: \"\";position: absolute;border-left: 1px solid gray;box-sizing: border-box;top: 0;bottom: 0;left: 50%;z-index: -1;}#sk-container-id-5 div.sk-parallel-item {display: flex;flex-direction: column;z-index: 1;position: relative;background-color: white;}#sk-container-id-5 div.sk-parallel-item:first-child::after {align-self: flex-end;width: 50%;}#sk-container-id-5 div.sk-parallel-item:last-child::after {align-self: flex-start;width: 50%;}#sk-container-id-5 div.sk-parallel-item:only-child::after {width: 0;}#sk-container-id-5 div.sk-dashed-wrapped {border: 1px dashed gray;margin: 0 0.4em 0.5em 0.4em;box-sizing: border-box;padding-bottom: 0.4em;background-color: white;}#sk-container-id-5 div.sk-label label {font-family: monospace;font-weight: bold;display: inline-block;line-height: 1.2em;}#sk-container-id-5 div.sk-label-container {text-align: center;}#sk-container-id-5 div.sk-container {/* jupyter's `normalize.less` sets `[hidden] { display: none; }` but bootstrap.min.css set `[hidden] { display: none !important; }` so we also need the `!important` here to be able to override the default hidden behavior on the sphinx rendered scikit-learn.org. See: https://github.com/scikit-learn/scikit-learn/issues/21755 */display: inline-block !important;position: relative;}#sk-container-id-5 div.sk-text-repr-fallback {display: none;}</style><div id=\"sk-container-id-5\" class=\"sk-top-container\"><div class=\"sk-text-repr-fallback\"><pre>GaussianNB()</pre><b>In a Jupyter environment, please rerun this cell to show the HTML representation or trust the notebook. <br />On GitHub, the HTML representation is unable to render, please try loading this page with nbviewer.org.</b></div><div class=\"sk-container\" hidden><div class=\"sk-item\"><div class=\"sk-estimator sk-toggleable\"><input class=\"sk-toggleable__control sk-hidden--visually\" id=\"sk-estimator-id-5\" type=\"checkbox\" checked><label for=\"sk-estimator-id-5\" class=\"sk-toggleable__label sk-toggleable__label-arrow\">GaussianNB</label><div class=\"sk-toggleable__content\"><pre>GaussianNB()</pre></div></div></div></div></div>"
      ],
      "text/plain": [
       "GaussianNB()"
      ]
     },
     "execution_count": 28,
     "metadata": {},
     "output_type": "execute_result"
    }
   ],
   "source": [
    "summary.add_classifier('Naive Bayes', GaussianNB(), {}, features_train, labels_train, features_test, labels_test)"
   ]
  },
  {
   "cell_type": "markdown",
   "id": "85365f9c-d95a-4a88-9130-791db19f2289",
   "metadata": {},
   "source": [
    "# Lesson 2: SVM (Support Vector Machine)"
   ]
  },
  {
   "cell_type": "markdown",
   "id": "e16ca69a-78a1-4093-a86e-d13a2a43e175",
   "metadata": {},
   "source": [
    "TO DO description of the algorithm and the lesson\n",
    "\n",
    "Find hyperplane to separate classes (if possible)\n",
    "What makes a good separating hyperplane? Maximaze the distance (margin) between the plane and the nearest point of the classes.\n",
    "\n",
    "SVM correct classification is more important than optimizing the margin. We can parametrize in order to tolerate classification errors and find a good margin to separate classes.\n",
    "\n",
    "SVM can also use another types of kernel (non-linear) in order to have a decision boundary that can capture non-linear relationships. Sometimes this complexity can be so tricky that it does not generalize well!\n",
    "\n",
    "Kernel trick: maps low dimension (non separable) to high dimension (linearly separable). These functions are called kernels. \n",
    "The solution of the SVM than reverses the kernel trick and will have a non-linear separation in the original feature space.\n",
    "\n",
    "Important SVM parameters:\n",
    "- kernel\n",
    "- C: controls the tradeoff between a smooth decision boundary and one that classifies all the training points correctly.\n",
    "- Gamma"
   ]
  },
  {
   "cell_type": "markdown",
   "id": "074eb08f-9a1e-44a9-bd15-0857d9aa2ce0",
   "metadata": {},
   "source": [
    "Let's use an SVM classifier with linear kernel"
   ]
  },
  {
   "cell_type": "code",
   "execution_count": 10,
   "id": "4f973646-81eb-4a6a-ba2a-18d2d7b49ad5",
   "metadata": {},
   "outputs": [],
   "source": [
    "from sklearn.svm import SVC"
   ]
  },
  {
   "cell_type": "code",
   "execution_count": 11,
   "id": "617bbd55-4986-4dd9-91a4-f05aed938b73",
   "metadata": {},
   "outputs": [
    {
     "name": "stdout",
     "output_type": "stream",
     "text": [
      "****************************************************************************************************\n",
      "Added SVM linear kernel with params {'C': 1.0, 'break_ties': False, 'cache_size': 200, 'class_weight': None, 'coef0': 0.0, 'decision_function_shape': 'ovr', 'degree': 3, 'gamma': 'scale', 'kernel': 'linear', 'max_iter': -1, 'probability': False, 'random_state': None, 'shrinking': True, 'tol': 0.001, 'verbose': False}\n",
      "Nb of training examples: 15820\n",
      "Training time: 80.343 s | Predict time: 7.973 s\n",
      "Accuracy: 0.9840728100113766\n",
      "****************************************************************************************************\n"
     ]
    },
    {
     "data": {
      "text/html": [
       "<style>#sk-container-id-2 {color: black;background-color: white;}#sk-container-id-2 pre{padding: 0;}#sk-container-id-2 div.sk-toggleable {background-color: white;}#sk-container-id-2 label.sk-toggleable__label {cursor: pointer;display: block;width: 100%;margin-bottom: 0;padding: 0.3em;box-sizing: border-box;text-align: center;}#sk-container-id-2 label.sk-toggleable__label-arrow:before {content: \"▸\";float: left;margin-right: 0.25em;color: #696969;}#sk-container-id-2 label.sk-toggleable__label-arrow:hover:before {color: black;}#sk-container-id-2 div.sk-estimator:hover label.sk-toggleable__label-arrow:before {color: black;}#sk-container-id-2 div.sk-toggleable__content {max-height: 0;max-width: 0;overflow: hidden;text-align: left;background-color: #f0f8ff;}#sk-container-id-2 div.sk-toggleable__content pre {margin: 0.2em;color: black;border-radius: 0.25em;background-color: #f0f8ff;}#sk-container-id-2 input.sk-toggleable__control:checked~div.sk-toggleable__content {max-height: 200px;max-width: 100%;overflow: auto;}#sk-container-id-2 input.sk-toggleable__control:checked~label.sk-toggleable__label-arrow:before {content: \"▾\";}#sk-container-id-2 div.sk-estimator input.sk-toggleable__control:checked~label.sk-toggleable__label {background-color: #d4ebff;}#sk-container-id-2 div.sk-label input.sk-toggleable__control:checked~label.sk-toggleable__label {background-color: #d4ebff;}#sk-container-id-2 input.sk-hidden--visually {border: 0;clip: rect(1px 1px 1px 1px);clip: rect(1px, 1px, 1px, 1px);height: 1px;margin: -1px;overflow: hidden;padding: 0;position: absolute;width: 1px;}#sk-container-id-2 div.sk-estimator {font-family: monospace;background-color: #f0f8ff;border: 1px dotted black;border-radius: 0.25em;box-sizing: border-box;margin-bottom: 0.5em;}#sk-container-id-2 div.sk-estimator:hover {background-color: #d4ebff;}#sk-container-id-2 div.sk-parallel-item::after {content: \"\";width: 100%;border-bottom: 1px solid gray;flex-grow: 1;}#sk-container-id-2 div.sk-label:hover label.sk-toggleable__label {background-color: #d4ebff;}#sk-container-id-2 div.sk-serial::before {content: \"\";position: absolute;border-left: 1px solid gray;box-sizing: border-box;top: 0;bottom: 0;left: 50%;z-index: 0;}#sk-container-id-2 div.sk-serial {display: flex;flex-direction: column;align-items: center;background-color: white;padding-right: 0.2em;padding-left: 0.2em;position: relative;}#sk-container-id-2 div.sk-item {position: relative;z-index: 1;}#sk-container-id-2 div.sk-parallel {display: flex;align-items: stretch;justify-content: center;background-color: white;position: relative;}#sk-container-id-2 div.sk-item::before, #sk-container-id-2 div.sk-parallel-item::before {content: \"\";position: absolute;border-left: 1px solid gray;box-sizing: border-box;top: 0;bottom: 0;left: 50%;z-index: -1;}#sk-container-id-2 div.sk-parallel-item {display: flex;flex-direction: column;z-index: 1;position: relative;background-color: white;}#sk-container-id-2 div.sk-parallel-item:first-child::after {align-self: flex-end;width: 50%;}#sk-container-id-2 div.sk-parallel-item:last-child::after {align-self: flex-start;width: 50%;}#sk-container-id-2 div.sk-parallel-item:only-child::after {width: 0;}#sk-container-id-2 div.sk-dashed-wrapped {border: 1px dashed gray;margin: 0 0.4em 0.5em 0.4em;box-sizing: border-box;padding-bottom: 0.4em;background-color: white;}#sk-container-id-2 div.sk-label label {font-family: monospace;font-weight: bold;display: inline-block;line-height: 1.2em;}#sk-container-id-2 div.sk-label-container {text-align: center;}#sk-container-id-2 div.sk-container {/* jupyter's `normalize.less` sets `[hidden] { display: none; }` but bootstrap.min.css set `[hidden] { display: none !important; }` so we also need the `!important` here to be able to override the default hidden behavior on the sphinx rendered scikit-learn.org. See: https://github.com/scikit-learn/scikit-learn/issues/21755 */display: inline-block !important;position: relative;}#sk-container-id-2 div.sk-text-repr-fallback {display: none;}</style><div id=\"sk-container-id-2\" class=\"sk-top-container\"><div class=\"sk-text-repr-fallback\"><pre>SVC(kernel=&#x27;linear&#x27;)</pre><b>In a Jupyter environment, please rerun this cell to show the HTML representation or trust the notebook. <br />On GitHub, the HTML representation is unable to render, please try loading this page with nbviewer.org.</b></div><div class=\"sk-container\" hidden><div class=\"sk-item\"><div class=\"sk-estimator sk-toggleable\"><input class=\"sk-toggleable__control sk-hidden--visually\" id=\"sk-estimator-id-2\" type=\"checkbox\" checked><label for=\"sk-estimator-id-2\" class=\"sk-toggleable__label sk-toggleable__label-arrow\">SVC</label><div class=\"sk-toggleable__content\"><pre>SVC(kernel=&#x27;linear&#x27;)</pre></div></div></div></div></div>"
      ],
      "text/plain": [
       "SVC(kernel='linear')"
      ]
     },
     "execution_count": 11,
     "metadata": {},
     "output_type": "execute_result"
    }
   ],
   "source": [
    "summary.add_classifier(\"SVM linear kernel\", SVC(), {'kernel':'linear'}, features_train,labels_train, features_test,labels_test)"
   ]
  },
  {
   "cell_type": "markdown",
   "id": "e2ad5c3b-e921-4a21-80de-fa925d9e8e9a",
   "metadata": {},
   "source": [
    "That took a long time! Let's see what happens if we reduce the training data to 1% of the original size"
   ]
  },
  {
   "cell_type": "code",
   "execution_count": 12,
   "id": "d70e521a-31bd-4066-a907-2512fe368854",
   "metadata": {},
   "outputs": [],
   "source": [
    "features_train_1pc = features_train[:round(len(features_train)/100)]\n",
    "labels_train_1pc = labels_train[:round(len(labels_train)/100)]"
   ]
  },
  {
   "cell_type": "code",
   "execution_count": 13,
   "id": "2487e0d3-dffb-4e36-9f56-43e38f4dba90",
   "metadata": {},
   "outputs": [
    {
     "name": "stdout",
     "output_type": "stream",
     "text": [
      "****************************************************************************************************\n",
      "Added SVM linear kernel 1pc with params {'C': 1.0, 'break_ties': False, 'cache_size': 200, 'class_weight': None, 'coef0': 0.0, 'decision_function_shape': 'ovr', 'degree': 3, 'gamma': 'scale', 'kernel': 'linear', 'max_iter': -1, 'probability': False, 'random_state': None, 'shrinking': True, 'tol': 0.001, 'verbose': False}\n",
      "Nb of training examples: 158\n",
      "Training time: 0.044 s | Predict time: 0.455 s\n",
      "Accuracy: 0.8845278725824801\n",
      "****************************************************************************************************\n"
     ]
    },
    {
     "data": {
      "text/html": [
       "<style>#sk-container-id-3 {color: black;background-color: white;}#sk-container-id-3 pre{padding: 0;}#sk-container-id-3 div.sk-toggleable {background-color: white;}#sk-container-id-3 label.sk-toggleable__label {cursor: pointer;display: block;width: 100%;margin-bottom: 0;padding: 0.3em;box-sizing: border-box;text-align: center;}#sk-container-id-3 label.sk-toggleable__label-arrow:before {content: \"▸\";float: left;margin-right: 0.25em;color: #696969;}#sk-container-id-3 label.sk-toggleable__label-arrow:hover:before {color: black;}#sk-container-id-3 div.sk-estimator:hover label.sk-toggleable__label-arrow:before {color: black;}#sk-container-id-3 div.sk-toggleable__content {max-height: 0;max-width: 0;overflow: hidden;text-align: left;background-color: #f0f8ff;}#sk-container-id-3 div.sk-toggleable__content pre {margin: 0.2em;color: black;border-radius: 0.25em;background-color: #f0f8ff;}#sk-container-id-3 input.sk-toggleable__control:checked~div.sk-toggleable__content {max-height: 200px;max-width: 100%;overflow: auto;}#sk-container-id-3 input.sk-toggleable__control:checked~label.sk-toggleable__label-arrow:before {content: \"▾\";}#sk-container-id-3 div.sk-estimator input.sk-toggleable__control:checked~label.sk-toggleable__label {background-color: #d4ebff;}#sk-container-id-3 div.sk-label input.sk-toggleable__control:checked~label.sk-toggleable__label {background-color: #d4ebff;}#sk-container-id-3 input.sk-hidden--visually {border: 0;clip: rect(1px 1px 1px 1px);clip: rect(1px, 1px, 1px, 1px);height: 1px;margin: -1px;overflow: hidden;padding: 0;position: absolute;width: 1px;}#sk-container-id-3 div.sk-estimator {font-family: monospace;background-color: #f0f8ff;border: 1px dotted black;border-radius: 0.25em;box-sizing: border-box;margin-bottom: 0.5em;}#sk-container-id-3 div.sk-estimator:hover {background-color: #d4ebff;}#sk-container-id-3 div.sk-parallel-item::after {content: \"\";width: 100%;border-bottom: 1px solid gray;flex-grow: 1;}#sk-container-id-3 div.sk-label:hover label.sk-toggleable__label {background-color: #d4ebff;}#sk-container-id-3 div.sk-serial::before {content: \"\";position: absolute;border-left: 1px solid gray;box-sizing: border-box;top: 0;bottom: 0;left: 50%;z-index: 0;}#sk-container-id-3 div.sk-serial {display: flex;flex-direction: column;align-items: center;background-color: white;padding-right: 0.2em;padding-left: 0.2em;position: relative;}#sk-container-id-3 div.sk-item {position: relative;z-index: 1;}#sk-container-id-3 div.sk-parallel {display: flex;align-items: stretch;justify-content: center;background-color: white;position: relative;}#sk-container-id-3 div.sk-item::before, #sk-container-id-3 div.sk-parallel-item::before {content: \"\";position: absolute;border-left: 1px solid gray;box-sizing: border-box;top: 0;bottom: 0;left: 50%;z-index: -1;}#sk-container-id-3 div.sk-parallel-item {display: flex;flex-direction: column;z-index: 1;position: relative;background-color: white;}#sk-container-id-3 div.sk-parallel-item:first-child::after {align-self: flex-end;width: 50%;}#sk-container-id-3 div.sk-parallel-item:last-child::after {align-self: flex-start;width: 50%;}#sk-container-id-3 div.sk-parallel-item:only-child::after {width: 0;}#sk-container-id-3 div.sk-dashed-wrapped {border: 1px dashed gray;margin: 0 0.4em 0.5em 0.4em;box-sizing: border-box;padding-bottom: 0.4em;background-color: white;}#sk-container-id-3 div.sk-label label {font-family: monospace;font-weight: bold;display: inline-block;line-height: 1.2em;}#sk-container-id-3 div.sk-label-container {text-align: center;}#sk-container-id-3 div.sk-container {/* jupyter's `normalize.less` sets `[hidden] { display: none; }` but bootstrap.min.css set `[hidden] { display: none !important; }` so we also need the `!important` here to be able to override the default hidden behavior on the sphinx rendered scikit-learn.org. See: https://github.com/scikit-learn/scikit-learn/issues/21755 */display: inline-block !important;position: relative;}#sk-container-id-3 div.sk-text-repr-fallback {display: none;}</style><div id=\"sk-container-id-3\" class=\"sk-top-container\"><div class=\"sk-text-repr-fallback\"><pre>SVC(kernel=&#x27;linear&#x27;)</pre><b>In a Jupyter environment, please rerun this cell to show the HTML representation or trust the notebook. <br />On GitHub, the HTML representation is unable to render, please try loading this page with nbviewer.org.</b></div><div class=\"sk-container\" hidden><div class=\"sk-item\"><div class=\"sk-estimator sk-toggleable\"><input class=\"sk-toggleable__control sk-hidden--visually\" id=\"sk-estimator-id-3\" type=\"checkbox\" checked><label for=\"sk-estimator-id-3\" class=\"sk-toggleable__label sk-toggleable__label-arrow\">SVC</label><div class=\"sk-toggleable__content\"><pre>SVC(kernel=&#x27;linear&#x27;)</pre></div></div></div></div></div>"
      ],
      "text/plain": [
       "SVC(kernel='linear')"
      ]
     },
     "execution_count": 13,
     "metadata": {},
     "output_type": "execute_result"
    }
   ],
   "source": [
    "summary.add_classifier(\"SVM linear kernel 1pc\", SVC(), {'kernel':'linear'}, features_train_1pc,labels_train_1pc, \n",
    "                              features_test,labels_test,)"
   ]
  },
  {
   "cell_type": "markdown",
   "id": "e84256ac-0fe9-4272-b60f-d2154f4122a7",
   "metadata": {},
   "source": [
    "Let's try to change the kernel to an rbf kernel and keep the same small training set. What is the accuracy in this case?"
   ]
  },
  {
   "cell_type": "code",
   "execution_count": 14,
   "id": "94d9f993-6048-4504-9660-ade8ccfe898d",
   "metadata": {},
   "outputs": [
    {
     "name": "stdout",
     "output_type": "stream",
     "text": [
      "****************************************************************************************************\n",
      "Added SVM rbf kernel 1pc with params {'C': 1.0, 'break_ties': False, 'cache_size': 200, 'class_weight': None, 'coef0': 0.0, 'decision_function_shape': 'ovr', 'degree': 3, 'gamma': 'scale', 'kernel': 'rbf', 'max_iter': -1, 'probability': False, 'random_state': None, 'shrinking': True, 'tol': 0.001, 'verbose': False}\n",
      "Nb of training examples: 158\n",
      "Training time: 0.049 s | Predict time: 0.677 s\n",
      "Accuracy: 0.8953356086461889\n",
      "****************************************************************************************************\n"
     ]
    },
    {
     "data": {
      "text/html": [
       "<style>#sk-container-id-4 {color: black;background-color: white;}#sk-container-id-4 pre{padding: 0;}#sk-container-id-4 div.sk-toggleable {background-color: white;}#sk-container-id-4 label.sk-toggleable__label {cursor: pointer;display: block;width: 100%;margin-bottom: 0;padding: 0.3em;box-sizing: border-box;text-align: center;}#sk-container-id-4 label.sk-toggleable__label-arrow:before {content: \"▸\";float: left;margin-right: 0.25em;color: #696969;}#sk-container-id-4 label.sk-toggleable__label-arrow:hover:before {color: black;}#sk-container-id-4 div.sk-estimator:hover label.sk-toggleable__label-arrow:before {color: black;}#sk-container-id-4 div.sk-toggleable__content {max-height: 0;max-width: 0;overflow: hidden;text-align: left;background-color: #f0f8ff;}#sk-container-id-4 div.sk-toggleable__content pre {margin: 0.2em;color: black;border-radius: 0.25em;background-color: #f0f8ff;}#sk-container-id-4 input.sk-toggleable__control:checked~div.sk-toggleable__content {max-height: 200px;max-width: 100%;overflow: auto;}#sk-container-id-4 input.sk-toggleable__control:checked~label.sk-toggleable__label-arrow:before {content: \"▾\";}#sk-container-id-4 div.sk-estimator input.sk-toggleable__control:checked~label.sk-toggleable__label {background-color: #d4ebff;}#sk-container-id-4 div.sk-label input.sk-toggleable__control:checked~label.sk-toggleable__label {background-color: #d4ebff;}#sk-container-id-4 input.sk-hidden--visually {border: 0;clip: rect(1px 1px 1px 1px);clip: rect(1px, 1px, 1px, 1px);height: 1px;margin: -1px;overflow: hidden;padding: 0;position: absolute;width: 1px;}#sk-container-id-4 div.sk-estimator {font-family: monospace;background-color: #f0f8ff;border: 1px dotted black;border-radius: 0.25em;box-sizing: border-box;margin-bottom: 0.5em;}#sk-container-id-4 div.sk-estimator:hover {background-color: #d4ebff;}#sk-container-id-4 div.sk-parallel-item::after {content: \"\";width: 100%;border-bottom: 1px solid gray;flex-grow: 1;}#sk-container-id-4 div.sk-label:hover label.sk-toggleable__label {background-color: #d4ebff;}#sk-container-id-4 div.sk-serial::before {content: \"\";position: absolute;border-left: 1px solid gray;box-sizing: border-box;top: 0;bottom: 0;left: 50%;z-index: 0;}#sk-container-id-4 div.sk-serial {display: flex;flex-direction: column;align-items: center;background-color: white;padding-right: 0.2em;padding-left: 0.2em;position: relative;}#sk-container-id-4 div.sk-item {position: relative;z-index: 1;}#sk-container-id-4 div.sk-parallel {display: flex;align-items: stretch;justify-content: center;background-color: white;position: relative;}#sk-container-id-4 div.sk-item::before, #sk-container-id-4 div.sk-parallel-item::before {content: \"\";position: absolute;border-left: 1px solid gray;box-sizing: border-box;top: 0;bottom: 0;left: 50%;z-index: -1;}#sk-container-id-4 div.sk-parallel-item {display: flex;flex-direction: column;z-index: 1;position: relative;background-color: white;}#sk-container-id-4 div.sk-parallel-item:first-child::after {align-self: flex-end;width: 50%;}#sk-container-id-4 div.sk-parallel-item:last-child::after {align-self: flex-start;width: 50%;}#sk-container-id-4 div.sk-parallel-item:only-child::after {width: 0;}#sk-container-id-4 div.sk-dashed-wrapped {border: 1px dashed gray;margin: 0 0.4em 0.5em 0.4em;box-sizing: border-box;padding-bottom: 0.4em;background-color: white;}#sk-container-id-4 div.sk-label label {font-family: monospace;font-weight: bold;display: inline-block;line-height: 1.2em;}#sk-container-id-4 div.sk-label-container {text-align: center;}#sk-container-id-4 div.sk-container {/* jupyter's `normalize.less` sets `[hidden] { display: none; }` but bootstrap.min.css set `[hidden] { display: none !important; }` so we also need the `!important` here to be able to override the default hidden behavior on the sphinx rendered scikit-learn.org. See: https://github.com/scikit-learn/scikit-learn/issues/21755 */display: inline-block !important;position: relative;}#sk-container-id-4 div.sk-text-repr-fallback {display: none;}</style><div id=\"sk-container-id-4\" class=\"sk-top-container\"><div class=\"sk-text-repr-fallback\"><pre>SVC()</pre><b>In a Jupyter environment, please rerun this cell to show the HTML representation or trust the notebook. <br />On GitHub, the HTML representation is unable to render, please try loading this page with nbviewer.org.</b></div><div class=\"sk-container\" hidden><div class=\"sk-item\"><div class=\"sk-estimator sk-toggleable\"><input class=\"sk-toggleable__control sk-hidden--visually\" id=\"sk-estimator-id-4\" type=\"checkbox\" checked><label for=\"sk-estimator-id-4\" class=\"sk-toggleable__label sk-toggleable__label-arrow\">SVC</label><div class=\"sk-toggleable__content\"><pre>SVC()</pre></div></div></div></div></div>"
      ],
      "text/plain": [
       "SVC()"
      ]
     },
     "execution_count": 14,
     "metadata": {},
     "output_type": "execute_result"
    }
   ],
   "source": [
    "summary.add_classifier(\"SVM rbf kernel 1pc\", SVC(), {'kernel':'rbf'}, features_train_1pc,labels_train_1pc, \n",
    "                              features_test,labels_test, inplace=True)"
   ]
  },
  {
   "cell_type": "markdown",
   "id": "f6786e70-b405-45cc-a7a8-96ccc9f3c208",
   "metadata": {},
   "source": [
    "Now let's try different values for the parameter C"
   ]
  },
  {
   "cell_type": "code",
   "execution_count": 15,
   "id": "634f0cb5-ff67-48ef-bef4-2bc6f5015714",
   "metadata": {},
   "outputs": [
    {
     "name": "stdout",
     "output_type": "stream",
     "text": [
      "****************************************************************************************************\n",
      "Added SVM rbf kernel 1pc C=1 with params {'C': 1, 'break_ties': False, 'cache_size': 200, 'class_weight': None, 'coef0': 0.0, 'decision_function_shape': 'ovr', 'degree': 3, 'gamma': 'scale', 'kernel': 'rbf', 'max_iter': -1, 'probability': False, 'random_state': None, 'shrinking': True, 'tol': 0.001, 'verbose': False}\n",
      "Nb of training examples: 158\n",
      "Training time: 0.05 s | Predict time: 0.675 s\n",
      "Accuracy: 0.8953356086461889\n",
      "****************************************************************************************************\n",
      "****************************************************************************************************\n",
      "Added SVM rbf kernel 1pc C=10 with params {'C': 10, 'break_ties': False, 'cache_size': 200, 'class_weight': None, 'coef0': 0.0, 'decision_function_shape': 'ovr', 'degree': 3, 'gamma': 'scale', 'kernel': 'rbf', 'max_iter': -1, 'probability': False, 'random_state': None, 'shrinking': True, 'tol': 0.001, 'verbose': False}\n",
      "Nb of training examples: 158\n",
      "Training time: 0.046 s | Predict time: 0.683 s\n",
      "Accuracy: 0.8998862343572241\n",
      "****************************************************************************************************\n",
      "****************************************************************************************************\n",
      "Added SVM rbf kernel 1pc C=100 with params {'C': 100, 'break_ties': False, 'cache_size': 200, 'class_weight': None, 'coef0': 0.0, 'decision_function_shape': 'ovr', 'degree': 3, 'gamma': 'scale', 'kernel': 'rbf', 'max_iter': -1, 'probability': False, 'random_state': None, 'shrinking': True, 'tol': 0.001, 'verbose': False}\n",
      "Nb of training examples: 158\n",
      "Training time: 0.046 s | Predict time: 0.676 s\n",
      "Accuracy: 0.8998862343572241\n",
      "****************************************************************************************************\n",
      "****************************************************************************************************\n",
      "Added SVM rbf kernel 1pc C=1000 with params {'C': 1000, 'break_ties': False, 'cache_size': 200, 'class_weight': None, 'coef0': 0.0, 'decision_function_shape': 'ovr', 'degree': 3, 'gamma': 'scale', 'kernel': 'rbf', 'max_iter': -1, 'probability': False, 'random_state': None, 'shrinking': True, 'tol': 0.001, 'verbose': False}\n",
      "Nb of training examples: 158\n",
      "Training time: 0.047 s | Predict time: 0.664 s\n",
      "Accuracy: 0.8998862343572241\n",
      "****************************************************************************************************\n",
      "****************************************************************************************************\n",
      "Added SVM rbf kernel 1pc C=10000 with params {'C': 10000, 'break_ties': False, 'cache_size': 200, 'class_weight': None, 'coef0': 0.0, 'decision_function_shape': 'ovr', 'degree': 3, 'gamma': 'scale', 'kernel': 'rbf', 'max_iter': -1, 'probability': False, 'random_state': None, 'shrinking': True, 'tol': 0.001, 'verbose': False}\n",
      "Nb of training examples: 158\n",
      "Training time: 0.047 s | Predict time: 0.666 s\n",
      "Accuracy: 0.8998862343572241\n",
      "****************************************************************************************************\n"
     ]
    }
   ],
   "source": [
    "C = [1, 10, 100, 1000, 10000]\n",
    "for c in C:\n",
    "    clf = summary.add_classifier(f\"SVM rbf kernel 1pc C={c}\", SVC(), {'kernel':'rbf', 'C':c}, features_train_1pc,labels_train_1pc, \n",
    "                              features_test,labels_test)"
   ]
  },
  {
   "cell_type": "code",
   "execution_count": 16,
   "id": "c5de4861-796a-4d64-8e38-b9a0ef661352",
   "metadata": {},
   "outputs": [
    {
     "data": {
      "text/html": [
       "<div>\n",
       "<style scoped>\n",
       "    .dataframe tbody tr th:only-of-type {\n",
       "        vertical-align: middle;\n",
       "    }\n",
       "\n",
       "    .dataframe tbody tr th {\n",
       "        vertical-align: top;\n",
       "    }\n",
       "\n",
       "    .dataframe thead th {\n",
       "        text-align: right;\n",
       "    }\n",
       "</style>\n",
       "<table border=\"1\" class=\"dataframe\">\n",
       "  <thead>\n",
       "    <tr style=\"text-align: right;\">\n",
       "      <th></th>\n",
       "      <th>accuracy</th>\n",
       "      <th>nb_training_examples</th>\n",
       "      <th>nb_training_features</th>\n",
       "      <th>training_time</th>\n",
       "      <th>predict_time</th>\n",
       "      <th>params</th>\n",
       "    </tr>\n",
       "  </thead>\n",
       "  <tbody>\n",
       "    <tr>\n",
       "      <th>Naive Bayes</th>\n",
       "      <td>0.973265</td>\n",
       "      <td>15820</td>\n",
       "      <td>3785</td>\n",
       "      <td>0.361</td>\n",
       "      <td>0.037</td>\n",
       "      <td>{}</td>\n",
       "    </tr>\n",
       "    <tr>\n",
       "      <th>SVM linear kernel</th>\n",
       "      <td>0.984073</td>\n",
       "      <td>15820</td>\n",
       "      <td>3785</td>\n",
       "      <td>80.343</td>\n",
       "      <td>7.973</td>\n",
       "      <td>{'kernel': 'linear'}</td>\n",
       "    </tr>\n",
       "    <tr>\n",
       "      <th>SVM linear kernel 1pc</th>\n",
       "      <td>0.884528</td>\n",
       "      <td>158</td>\n",
       "      <td>3785</td>\n",
       "      <td>0.044</td>\n",
       "      <td>0.455</td>\n",
       "      <td>{'kernel': 'linear'}</td>\n",
       "    </tr>\n",
       "    <tr>\n",
       "      <th>SVM rbf kernel 1pc</th>\n",
       "      <td>0.895336</td>\n",
       "      <td>158</td>\n",
       "      <td>3785</td>\n",
       "      <td>0.049</td>\n",
       "      <td>0.677</td>\n",
       "      <td>{'kernel': 'rbf'}</td>\n",
       "    </tr>\n",
       "    <tr>\n",
       "      <th>SVM rbf kernel 1pc C=1</th>\n",
       "      <td>0.895336</td>\n",
       "      <td>158</td>\n",
       "      <td>3785</td>\n",
       "      <td>0.050</td>\n",
       "      <td>0.675</td>\n",
       "      <td>{'kernel': 'rbf', 'C': 1}</td>\n",
       "    </tr>\n",
       "    <tr>\n",
       "      <th>SVM rbf kernel 1pc C=10</th>\n",
       "      <td>0.899886</td>\n",
       "      <td>158</td>\n",
       "      <td>3785</td>\n",
       "      <td>0.046</td>\n",
       "      <td>0.683</td>\n",
       "      <td>{'kernel': 'rbf', 'C': 10}</td>\n",
       "    </tr>\n",
       "    <tr>\n",
       "      <th>SVM rbf kernel 1pc C=100</th>\n",
       "      <td>0.899886</td>\n",
       "      <td>158</td>\n",
       "      <td>3785</td>\n",
       "      <td>0.046</td>\n",
       "      <td>0.676</td>\n",
       "      <td>{'kernel': 'rbf', 'C': 100}</td>\n",
       "    </tr>\n",
       "    <tr>\n",
       "      <th>SVM rbf kernel 1pc C=1000</th>\n",
       "      <td>0.899886</td>\n",
       "      <td>158</td>\n",
       "      <td>3785</td>\n",
       "      <td>0.047</td>\n",
       "      <td>0.664</td>\n",
       "      <td>{'kernel': 'rbf', 'C': 1000}</td>\n",
       "    </tr>\n",
       "    <tr>\n",
       "      <th>SVM rbf kernel 1pc C=10000</th>\n",
       "      <td>0.899886</td>\n",
       "      <td>158</td>\n",
       "      <td>3785</td>\n",
       "      <td>0.047</td>\n",
       "      <td>0.666</td>\n",
       "      <td>{'kernel': 'rbf', 'C': 10000}</td>\n",
       "    </tr>\n",
       "  </tbody>\n",
       "</table>\n",
       "</div>"
      ],
      "text/plain": [
       "                            accuracy  nb_training_examples  \\\n",
       "Naive Bayes                 0.973265                 15820   \n",
       "SVM linear kernel           0.984073                 15820   \n",
       "SVM linear kernel 1pc       0.884528                   158   \n",
       "SVM rbf kernel 1pc          0.895336                   158   \n",
       "SVM rbf kernel 1pc C=1      0.895336                   158   \n",
       "SVM rbf kernel 1pc C=10     0.899886                   158   \n",
       "SVM rbf kernel 1pc C=100    0.899886                   158   \n",
       "SVM rbf kernel 1pc C=1000   0.899886                   158   \n",
       "SVM rbf kernel 1pc C=10000  0.899886                   158   \n",
       "\n",
       "                            nb_training_features  training_time  predict_time  \\\n",
       "Naive Bayes                                 3785          0.361         0.037   \n",
       "SVM linear kernel                           3785         80.343         7.973   \n",
       "SVM linear kernel 1pc                       3785          0.044         0.455   \n",
       "SVM rbf kernel 1pc                          3785          0.049         0.677   \n",
       "SVM rbf kernel 1pc C=1                      3785          0.050         0.675   \n",
       "SVM rbf kernel 1pc C=10                     3785          0.046         0.683   \n",
       "SVM rbf kernel 1pc C=100                    3785          0.046         0.676   \n",
       "SVM rbf kernel 1pc C=1000                   3785          0.047         0.664   \n",
       "SVM rbf kernel 1pc C=10000                  3785          0.047         0.666   \n",
       "\n",
       "                                                   params  \n",
       "Naive Bayes                                            {}  \n",
       "SVM linear kernel                    {'kernel': 'linear'}  \n",
       "SVM linear kernel 1pc                {'kernel': 'linear'}  \n",
       "SVM rbf kernel 1pc                      {'kernel': 'rbf'}  \n",
       "SVM rbf kernel 1pc C=1          {'kernel': 'rbf', 'C': 1}  \n",
       "SVM rbf kernel 1pc C=10        {'kernel': 'rbf', 'C': 10}  \n",
       "SVM rbf kernel 1pc C=100      {'kernel': 'rbf', 'C': 100}  \n",
       "SVM rbf kernel 1pc C=1000    {'kernel': 'rbf', 'C': 1000}  \n",
       "SVM rbf kernel 1pc C=10000  {'kernel': 'rbf', 'C': 10000}  "
      ]
     },
     "execution_count": 16,
     "metadata": {},
     "output_type": "execute_result"
    }
   ],
   "source": [
    "summary.summary_table()"
   ]
  },
  {
   "cell_type": "markdown",
   "id": "1f69b921-dc33-4614-973c-b78dfb49a5e1",
   "metadata": {},
   "source": [
    "We choose model with C=10000 and now we will train it with the entire training dataset.best_clf = SVC(kernel='rbf', C=10000) \n",
    "best_clf.fit(features_train, labels_train)"
   ]
  },
  {
   "cell_type": "code",
   "execution_count": 29,
   "id": "f361cb8c-bb5e-46b9-9221-e8de17a60321",
   "metadata": {},
   "outputs": [
    {
     "name": "stdout",
     "output_type": "stream",
     "text": [
      "****************************************************************************************************\n",
      "Added Best SVM with params {'C': 10000, 'break_ties': False, 'cache_size': 200, 'class_weight': None, 'coef0': 0.0, 'decision_function_shape': 'ovr', 'degree': 3, 'gamma': 'scale', 'kernel': 'rbf', 'max_iter': -1, 'probability': False, 'random_state': None, 'shrinking': True, 'tol': 0.001, 'verbose': False}\n",
      "Nb of training examples: 15820\n",
      "Training time: 84.826 s | Predict time: 11.085 s\n",
      "Accuracy: 0.9960182025028441\n",
      "****************************************************************************************************\n"
     ]
    }
   ],
   "source": [
    "best_svm = summary.add_classifier(f\"Best SVM\", SVC(), {'kernel':'rbf', 'C':10000}, features_train,labels_train, \n",
    "                              features_test,labels_test)"
   ]
  },
  {
   "cell_type": "markdown",
   "id": "3095c3b3-2afc-4a5e-ae67-b41dec6132e0",
   "metadata": {},
   "source": [
    "# Lesson 3: Decision Trees"
   ]
  },
  {
   "cell_type": "markdown",
   "id": "ac8f898c-3a2b-455e-bf38-b94f5c722e6f",
   "metadata": {},
   "source": [
    "TO DO description of the algorithm and lesson "
   ]
  },
  {
   "cell_type": "code",
   "execution_count": null,
   "id": "50e0adf8-c9b9-4d70-909c-cf2791388528",
   "metadata": {},
   "outputs": [],
   "source": [
    "from sklearn.tree import DecisionTreeClassifier"
   ]
  },
  {
   "cell_type": "code",
   "execution_count": null,
   "id": "01750c22-00ad-4419-9ef1-8e8bd67f0473",
   "metadata": {},
   "outputs": [],
   "source": [
    "summary.add_classifier(\"DT min_samples_split=40\", DecisionTreeClassifier(), {'min_samples_split':40}, features_train,labels_train, \n",
    "                              features_test,labels_test, inplace=True)"
   ]
  },
  {
   "cell_type": "code",
   "execution_count": null,
   "id": "764eadac-f901-46de-8d40-0e2287285809",
   "metadata": {},
   "outputs": [],
   "source": []
  }
 ],
 "metadata": {
  "kernelspec": {
   "display_name": "Python 3 (ipykernel)",
   "language": "python",
   "name": "python3"
  },
  "language_info": {
   "codemirror_mode": {
    "name": "ipython",
    "version": 3
   },
   "file_extension": ".py",
   "mimetype": "text/x-python",
   "name": "python",
   "nbconvert_exporter": "python",
   "pygments_lexer": "ipython3",
   "version": "3.9.13"
  }
 },
 "nbformat": 4,
 "nbformat_minor": 5
}
